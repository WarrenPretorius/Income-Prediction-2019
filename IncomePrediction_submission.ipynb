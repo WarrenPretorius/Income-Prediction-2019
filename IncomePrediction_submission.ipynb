{
 "cells": [
  {
   "cell_type": "markdown",
   "metadata": {},
   "source": [
    "## Load Dependencies"
   ]
  },
  {
   "cell_type": "code",
   "execution_count": null,
   "metadata": {},
   "outputs": [],
   "source": [
    "import pandas as pd  \n",
    "import numpy as np\n",
    "import xgboost as xgb\n",
    "import matplotlib.pyplot as plt  \n",
    "import seaborn as seabornInstance\n",
    "import math\n",
    "from sklearn.model_selection import train_test_split \n",
    "from sklearn.linear_model import LinearRegression\n",
    "from sklearn.neighbors import KNeighborsRegressor\n",
    "from sklearn.ensemble import AdaBoostRegressor\n",
    "from sklearn.datasets import make_regression\n",
    "from sklearn.neural_network import MLPRegressor\n",
    "from sklearn import metrics\n",
    "from sklearn import linear_model\n",
    "from sklearn import preprocessing\n",
    "from sklearn.svm import SVR\n",
    "from scipy import stats\n",
    "from scipy.stats.mstats import gmean\n",
    "from catboost import CatBoostRegressor\n",
    "%matplotlib inline"
   ]
  },
  {
   "cell_type": "code",
   "execution_count": null,
   "metadata": {},
   "outputs": [],
   "source": [
    "# Mask that will later be used for Splitting data into Train and Val\n",
    "# The '111974' is the number of rows after removing outliers\n",
    "mask = np.random.rand( 111974 ) < 0.8"
   ]
  },
  {
   "cell_type": "markdown",
   "metadata": {},
   "source": [
    "## Load Datasets"
   ]
  },
  {
   "cell_type": "code",
   "execution_count": null,
   "metadata": {},
   "outputs": [],
   "source": [
    "df_train = pd.read_csv('tcd ml 2019-20 income prediction training (with labels).csv')\n",
    "df_test = pd.read_csv('tcd ml 2019-20 income prediction test (without labels).csv')\n",
    "df_sub = pd.read_csv('tcd ml 2019-20 income prediction submission file.csv')"
   ]
  },
  {
   "cell_type": "markdown",
   "metadata": {},
   "source": [
    "## Remove Outliers"
   ]
  },
  {
   "cell_type": "code",
   "execution_count": null,
   "metadata": {},
   "outputs": [],
   "source": [
    "# The value of 200000 was chosen from earlier examination of the data\n",
    "df_train = df_train[df_train['Income in EUR'] < 2000000]"
   ]
  },
  {
   "cell_type": "markdown",
   "metadata": {},
   "source": [
    "## Append Test set onto Training"
   ]
  },
  {
   "cell_type": "code",
   "execution_count": null,
   "metadata": {},
   "outputs": [],
   "source": [
    "# Get the number of rows in each set\n",
    "num_train_rows = df_train.shape[0]\n",
    "num_test_rows = df_test.shape[0]\n",
    "\n",
    "# Rename the Income column for uniformity\n",
    "df_train.rename(columns={'Income in EUR':'Income'}, inplace = True)\n",
    "\n",
    "# Append the test set to train set\n",
    "df_train_and_test = df_train.append(df_test, ignore_index=True, sort=False)"
   ]
  },
  {
   "cell_type": "markdown",
   "metadata": {},
   "source": [
    "## Replace NaNs"
   ]
  },
  {
   "cell_type": "code",
   "execution_count": null,
   "metadata": {},
   "outputs": [],
   "source": [
    "df_train_and_test['Gender'].fillna('unknown', inplace=True);\n",
    "df_train_and_test['Profession'].fillna('unknown', inplace=True);\n",
    "df_train_and_test['University Degree'].fillna('unknown', inplace=True);\n",
    "df_train_and_test['Hair Color'].fillna('Unknown', inplace=True);\n",
    "                                       \n",
    "# Replace the missing years and ages with their mean values\n",
    "year_mean = (df_train_and_test['Year of Record'].dropna()).mean()\n",
    "age_mean = ( df_train_and_test['Age'].dropna()).mean()\n",
    "\n",
    "df_train_and_test['Year of Record'].fillna(year_mean, inplace=True)\n",
    "df_train_and_test['Age'].fillna(age_mean, inplace=True)"
   ]
  },
  {
   "cell_type": "markdown",
   "metadata": {},
   "source": [
    "## Merge Similar Features"
   ]
  },
  {
   "cell_type": "code",
   "execution_count": null,
   "metadata": {},
   "outputs": [],
   "source": [
    "df_train_and_test['Gender'].replace('0', 'unknown', inplace=True)\n",
    "df_train_and_test['University Degree'].replace('0', 'No', inplace=True)\n",
    "df_train_and_test['Hair Color'].replace(['Unknown', '0'], 'unknown', inplace=True)"
   ]
  },
  {
   "cell_type": "markdown",
   "metadata": {},
   "source": [
    "## Encode Professions using mean Incomes"
   ]
  },
  {
   "cell_type": "code",
   "execution_count": null,
   "metadata": {},
   "outputs": [],
   "source": [
    "df_train['Profession'].fillna('unknown', inplace=True);  # Fill all missing NaNs in Training set\n",
    "unique_proffs = df_train_and_test['Profession'].unique() # Get a list of all the professions\n",
    "\n",
    "# For every unique profession, get the average of that profession\n",
    "# and replace the string label with that value\n",
    "for job in unique_proffs:\n",
    "    job_rows = df_train.loc[ df_train['Profession'] == job ]\n",
    "    job_mean = ( job_rows.iloc[:,-1] ).mean()\n",
    "    \n",
    "    df_train_and_test['Profession'].replace(job, job_mean, inplace=True)\n",
    "\n",
    "# For any professions which we couldn't calculate a score, replace them with the total average income\n",
    "avg_income = df_train['Income'].mean()\n",
    "df_train_and_test['Profession'].fillna(avg_income, inplace=True);"
   ]
  },
  {
   "cell_type": "markdown",
   "metadata": {},
   "source": [
    "## Encode Countries"
   ]
  },
  {
   "cell_type": "code",
   "execution_count": null,
   "metadata": {},
   "outputs": [],
   "source": [
    "df_train['Country'].fillna('unknown', inplace=True);     # Fill all missing NaNs in Training set\n",
    "unique_countries = df_train_and_test['Country'].unique() # Get a list of all the countries\n",
    "\n",
    "# For each unique country, get the average income for that country\n",
    "# and replace the country label with that value\n",
    "for country in unique_countries:\n",
    "    country_rows = df_train.loc[ df_train['Country'] == country ]\n",
    "    country_mean = ( country_rows.iloc[:,-1] ).mean()\n",
    "    \n",
    "    df_train_and_test['Country'].replace(country, country_mean, inplace=True)\n",
    "\n",
    "# For any stragglers, replace their label with the total average income\n",
    "avg_income = df_train['Income'].mean()\n",
    "df_train_and_test['Country'].fillna(avg_income, inplace=True);"
   ]
  },
  {
   "cell_type": "markdown",
   "metadata": {},
   "source": [
    "## One-hot encode"
   ]
  },
  {
   "cell_type": "code",
   "execution_count": null,
   "metadata": {},
   "outputs": [],
   "source": [
    "# Get one hot-enoded versions of the remaining categorical features\n",
    "genders = pd.get_dummies(df_train_and_test['Gender'], prefix='gender_')\n",
    "degrees = pd.get_dummies(df_train_and_test['University Degree'], prefix='degree_')\n",
    "\n",
    "# Join dummy variables to original dataframe\n",
    "frames = [df_train_and_test, genders, degrees]\n",
    "df_train_and_test = pd.concat(frames, axis = 1, sort=False)\n",
    "\n",
    "# Extract the target column from dataset\n",
    "y = df_train_and_test['Income']\n",
    "\n",
    "# Drop the original categorical columns (Since they've been replaced by one-hot versions)\n",
    "cols_to_drop = ['Income','Gender', 'Hair Color', 'University Degree']\n",
    "df_train_and_test.drop(cols_to_drop, inplace=True, axis=1)"
   ]
  },
  {
   "cell_type": "markdown",
   "metadata": {},
   "source": [
    "## Split Data"
   ]
  },
  {
   "cell_type": "code",
   "execution_count": null,
   "metadata": {},
   "outputs": [],
   "source": [
    "# Split the data back into training and test sets\n",
    "X_train_full = df_train_and_test[:num_train_rows]\n",
    "Y_train_full = y[:num_train_rows]\n",
    "\n",
    "X_test = df_train_and_test[num_train_rows:]\n",
    "Y_test = y[num_train_rows:]\n",
    "\n",
    "# From the full available data, create a training and validation set\n",
    "X_train = X_train_full[mask]\n",
    "X_val = X_train_full[~mask]\n",
    "\n",
    "Y_train = Y_train_full[mask]\n",
    "Y_val = Y_train_full[~mask]"
   ]
  },
  {
   "cell_type": "markdown",
   "metadata": {},
   "source": [
    "## Train"
   ]
  },
  {
   "cell_type": "code",
   "execution_count": null,
   "metadata": {
    "scrolled": true
   },
   "outputs": [],
   "source": [
    "# Use the popular CatBoost Regressor to fit a model to our data\n",
    "regr = CatBoostRegressor(iterations = 1750)\n",
    "regr.fit(X_train, Y_train)"
   ]
  },
  {
   "cell_type": "markdown",
   "metadata": {},
   "source": [
    "## Test Performance"
   ]
  },
  {
   "cell_type": "code",
   "execution_count": null,
   "metadata": {},
   "outputs": [],
   "source": [
    "predictions = regr.predict(X_val)\n",
    "score = np.sqrt( metrics.mean_squared_error( Y_val, predictions ) )\n",
    "score"
   ]
  },
  {
   "cell_type": "markdown",
   "metadata": {},
   "source": [
    "## Train on Full Data"
   ]
  },
  {
   "cell_type": "code",
   "execution_count": null,
   "metadata": {},
   "outputs": [],
   "source": [
    "regr = CatBoostRegressor(iterations = 1750)\n",
    "regr.fit(X_train_full, Y_train_full)\n",
    "         \n",
    "predictions = regr.predict(X_test)"
   ]
  },
  {
   "cell_type": "markdown",
   "metadata": {},
   "source": [
    "## Save Predictions to file"
   ]
  },
  {
   "cell_type": "code",
   "execution_count": null,
   "metadata": {},
   "outputs": [],
   "source": [
    "df_sub['Income'] = predictions\n",
    "df_sub.to_csv('predicitons_CatBoost_1750_iter_Mean_encoding.csv', index=False)"
   ]
  }
 ],
 "metadata": {
  "kernelspec": {
   "display_name": "Python 3",
   "language": "python",
   "name": "python3"
  },
  "language_info": {
   "codemirror_mode": {
    "name": "ipython",
    "version": 3
   },
   "file_extension": ".py",
   "mimetype": "text/x-python",
   "name": "python",
   "nbconvert_exporter": "python",
   "pygments_lexer": "ipython3",
   "version": "3.7.3"
  }
 },
 "nbformat": 4,
 "nbformat_minor": 2
}
